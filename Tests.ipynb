{
 "cells": [
  {
   "cell_type": "code",
   "execution_count": 2,
   "id": "5d21badc",
   "metadata": {},
   "outputs": [],
   "source": [
    "def min_squared(i, j, k):\n",
    "    return i**2 + j**2 + k**2 - max(i,j,k)**2"
   ]
  },
  {
   "cell_type": "code",
   "execution_count": 3,
   "id": "7fcbeb13",
   "metadata": {},
   "outputs": [
    {
     "data": {
      "text/plain": [
       "5"
      ]
     },
     "execution_count": 3,
     "metadata": {},
     "output_type": "execute_result"
    }
   ],
   "source": [
    "min_squared(1,2,3)"
   ]
  },
  {
   "cell_type": "code",
   "execution_count": 21,
   "id": "e9935a4e",
   "metadata": {},
   "outputs": [],
   "source": [
    "def largest_n(n):\n",
    "    a = None\n",
    "    for i in range(1,n):\n",
    "        x = n%i\n",
    "        if x == 0:\n",
    "            a = i\n",
    "    return a\n",
    "        "
   ]
  },
  {
   "cell_type": "code",
   "execution_count": 22,
   "id": "d206fcd5",
   "metadata": {},
   "outputs": [
    {
     "data": {
      "text/plain": [
       "40"
      ]
     },
     "execution_count": 22,
     "metadata": {},
     "output_type": "execute_result"
    }
   ],
   "source": [
    "largest_n(80)"
   ]
  },
  {
   "cell_type": "code",
   "execution_count": 25,
   "id": "c44d5b2b",
   "metadata": {},
   "outputs": [],
   "source": [
    "def hailstone(n):\n",
    "    i = 1\n",
    "    while n > 1:\n",
    "        i+=1\n",
    "        print(n)\n",
    "        if n % 2 == 0:\n",
    "            n //= 2\n",
    "        else:\n",
    "            n = (n*3) + 1\n",
    "    return i"
   ]
  },
  {
   "cell_type": "code",
   "execution_count": 26,
   "id": "bb64695c",
   "metadata": {},
   "outputs": [
    {
     "name": "stdout",
     "output_type": "stream",
     "text": [
      "10\n",
      "5\n",
      "16\n",
      "8\n",
      "4\n",
      "2\n"
     ]
    },
    {
     "data": {
      "text/plain": [
       "7"
      ]
     },
     "execution_count": 26,
     "metadata": {},
     "output_type": "execute_result"
    }
   ],
   "source": [
    "hailstone(10)"
   ]
  },
  {
   "cell_type": "code",
   "execution_count": null,
   "id": "9ccf47c6",
   "metadata": {},
   "outputs": [],
   "source": []
  }
 ],
 "metadata": {
  "kernelspec": {
   "display_name": "Python 3 (ipykernel)",
   "language": "python",
   "name": "python3"
  },
  "language_info": {
   "codemirror_mode": {
    "name": "ipython",
    "version": 3
   },
   "file_extension": ".py",
   "mimetype": "text/x-python",
   "name": "python",
   "nbconvert_exporter": "python",
   "pygments_lexer": "ipython3",
   "version": "3.9.12"
  }
 },
 "nbformat": 4,
 "nbformat_minor": 5
}
