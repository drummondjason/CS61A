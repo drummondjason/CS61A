{
 "cells": [
  {
   "cell_type": "code",
   "execution_count": 16,
   "id": "a2e4cf7b",
   "metadata": {},
   "outputs": [
    {
     "data": {
      "text/plain": [
       "False"
      ]
     },
     "execution_count": 16,
     "metadata": {},
     "output_type": "execute_result"
    }
   ],
   "source": [
    "(True or False) and False"
   ]
  },
  {
   "cell_type": "code",
   "execution_count": 2,
   "id": "5d21badc",
   "metadata": {},
   "outputs": [],
   "source": [
    "def min_squared(i, j, k):\n",
    "    return i**2 + j**2 + k**2 - max(i,j,k)**2"
   ]
  },
  {
   "cell_type": "code",
   "execution_count": 3,
   "id": "7fcbeb13",
   "metadata": {},
   "outputs": [
    {
     "data": {
      "text/plain": [
       "5"
      ]
     },
     "execution_count": 3,
     "metadata": {},
     "output_type": "execute_result"
    }
   ],
   "source": [
    "min_squared(1,2,3)"
   ]
  },
  {
   "cell_type": "code",
   "execution_count": 21,
   "id": "e9935a4e",
   "metadata": {},
   "outputs": [],
   "source": [
    "def largest_n(n):\n",
    "    a = None\n",
    "    for i in range(1,n):\n",
    "        x = n%i\n",
    "        if x == 0:\n",
    "            a = i\n",
    "    return a\n",
    "        "
   ]
  },
  {
   "cell_type": "code",
   "execution_count": 22,
   "id": "d206fcd5",
   "metadata": {},
   "outputs": [
    {
     "data": {
      "text/plain": [
       "40"
      ]
     },
     "execution_count": 22,
     "metadata": {},
     "output_type": "execute_result"
    }
   ],
   "source": [
    "largest_n(80)"
   ]
  },
  {
   "cell_type": "code",
   "execution_count": 25,
   "id": "c44d5b2b",
   "metadata": {},
   "outputs": [],
   "source": [
    "def hailstone(n):\n",
    "    i = 1\n",
    "    while n > 1:\n",
    "        i+=1\n",
    "        print(n)\n",
    "        if n % 2 == 0:\n",
    "            n //= 2\n",
    "        else:\n",
    "            n = (n*3) + 1\n",
    "    return i"
   ]
  },
  {
   "cell_type": "code",
   "execution_count": 26,
   "id": "bb64695c",
   "metadata": {},
   "outputs": [
    {
     "name": "stdout",
     "output_type": "stream",
     "text": [
      "10\n",
      "5\n",
      "16\n",
      "8\n",
      "4\n",
      "2\n"
     ]
    },
    {
     "data": {
      "text/plain": [
       "7"
      ]
     },
     "execution_count": 26,
     "metadata": {},
     "output_type": "execute_result"
    }
   ],
   "source": [
    "hailstone(10)"
   ]
  },
  {
   "cell_type": "code",
   "execution_count": 5,
   "id": "9ccf47c6",
   "metadata": {},
   "outputs": [],
   "source": [
    "def unique_digits(n):\n",
    "    s = set(str(n))\n",
    "    print(len(s))"
   ]
  },
  {
   "cell_type": "code",
   "execution_count": 6,
   "id": "fea44df8",
   "metadata": {},
   "outputs": [
    {
     "name": "stdout",
     "output_type": "stream",
     "text": [
      "7\n"
     ]
    }
   ],
   "source": [
    "unique_digits(8675309)"
   ]
  },
  {
   "cell_type": "code",
   "execution_count": 15,
   "id": "a939aceb",
   "metadata": {},
   "outputs": [],
   "source": [
    "print_lambda = lambda z: print(z)"
   ]
  },
  {
   "cell_type": "code",
   "execution_count": 19,
   "id": "27a7c20a",
   "metadata": {},
   "outputs": [
    {
     "name": "stdout",
     "output_type": "stream",
     "text": [
      "1000\n"
     ]
    }
   ],
   "source": [
    "one_thousand = print_lambda(1000)"
   ]
  },
  {
   "cell_type": "code",
   "execution_count": 20,
   "id": "87dbdb4a",
   "metadata": {},
   "outputs": [],
   "source": [
    "one_thousand"
   ]
  },
  {
   "cell_type": "code",
   "execution_count": 10,
   "id": "d1f7f06b",
   "metadata": {},
   "outputs": [
    {
     "name": "stdout",
     "output_type": "stream",
     "text": [
      "beets\n"
     ]
    }
   ],
   "source": [
    "def cake():\n",
    "   print('beets')\n",
    "   def pie():\n",
    "       print('sweets')\n",
    "       return 'cake'\n",
    "   return pie\n",
    "chocolate = cake()"
   ]
  },
  {
   "cell_type": "code",
   "execution_count": 7,
   "id": "8eab2110",
   "metadata": {},
   "outputs": [
    {
     "name": "stdout",
     "output_type": "stream",
     "text": [
      "sweets\n"
     ]
    },
    {
     "data": {
      "text/plain": [
       "'cake'"
      ]
     },
     "execution_count": 7,
     "metadata": {},
     "output_type": "execute_result"
    }
   ],
   "source": [
    "chocolate()"
   ]
  },
  {
   "cell_type": "code",
   "execution_count": 15,
   "id": "9c9c7fdf",
   "metadata": {},
   "outputs": [
    {
     "data": {
      "text/plain": [
       "<function __main__.cake.<locals>.pie()>"
      ]
     },
     "execution_count": 15,
     "metadata": {},
     "output_type": "execute_result"
    }
   ],
   "source": [
    "chocolate"
   ]
  },
  {
   "cell_type": "code",
   "execution_count": 12,
   "id": "082230ab",
   "metadata": {},
   "outputs": [
    {
     "name": "stdout",
     "output_type": "stream",
     "text": [
      "sweets\n"
     ]
    }
   ],
   "source": [
    "more_chocolate, more_cake = chocolate(), cake\n"
   ]
  },
  {
   "cell_type": "code",
   "execution_count": 13,
   "id": "d6ff88bf",
   "metadata": {},
   "outputs": [
    {
     "data": {
      "text/plain": [
       "'cake'"
      ]
     },
     "execution_count": 13,
     "metadata": {},
     "output_type": "execute_result"
    }
   ],
   "source": [
    "more_chocolate"
   ]
  },
  {
   "cell_type": "code",
   "execution_count": 14,
   "id": "f2920c75",
   "metadata": {},
   "outputs": [
    {
     "data": {
      "text/plain": [
       "<function __main__.cake()>"
      ]
     },
     "execution_count": 14,
     "metadata": {},
     "output_type": "execute_result"
    }
   ],
   "source": [
    "cake"
   ]
  },
  {
   "cell_type": "code",
   "execution_count": 1,
   "id": "88b9ee77",
   "metadata": {},
   "outputs": [],
   "source": [
    "def end(n,d):\n",
    "    while n>0:\n",
    "        last, n = n%10, n//10\n",
    "        print(last, n)\n",
    "        if d == last:\n",
    "            return None"
   ]
  },
  {
   "cell_type": "code",
   "execution_count": 2,
   "id": "340f8994",
   "metadata": {},
   "outputs": [
    {
     "name": "stdout",
     "output_type": "stream",
     "text": [
      "7 3456\n",
      "6 345\n",
      "5 34\n"
     ]
    }
   ],
   "source": [
    "end(34567, 5)\n"
   ]
  },
  {
   "cell_type": "code",
   "execution_count": 1,
   "id": "3a3fcb8c",
   "metadata": {},
   "outputs": [
    {
     "name": "stdout",
     "output_type": "stream",
     "text": [
      "5 1\n"
     ]
    }
   ],
   "source": [
    "a, b = 15%10, 15//10\n",
    "print(a,b)"
   ]
  },
  {
   "cell_type": "code",
   "execution_count": null,
   "id": "46cd747e",
   "metadata": {},
   "outputs": [],
   "source": []
  }
 ],
 "metadata": {
  "kernelspec": {
   "display_name": "Python 3 (ipykernel)",
   "language": "python",
   "name": "python3"
  },
  "language_info": {
   "codemirror_mode": {
    "name": "ipython",
    "version": 3
   },
   "file_extension": ".py",
   "mimetype": "text/x-python",
   "name": "python",
   "nbconvert_exporter": "python",
   "pygments_lexer": "ipython3",
   "version": "3.9.12"
  }
 },
 "nbformat": 4,
 "nbformat_minor": 5
}
