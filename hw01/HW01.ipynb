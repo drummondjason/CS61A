{
 "cells": [
  {
   "cell_type": "code",
   "execution_count": 14,
   "metadata": {},
   "outputs": [],
   "source": [
    "from operator import add, sub"
   ]
  },
  {
   "cell_type": "code",
   "execution_count": 17,
   "metadata": {},
   "outputs": [],
   "source": [
    "def a_plus_abs_b(a, b):\n",
    "    \"\"\"Return a+abs(b), but without calling abs.\n",
    "\n",
    "    >>> a_plus_abs_b(2, 3)\n",
    "    5\n",
    "    >>> a_plus_abs_b(2, -3)\n",
    "    5\n",
    "    >>> a_plus_abs_b(-1, 4)\n",
    "    3\n",
    "    >>> a_plus_abs_b(-1, -4)\n",
    "    3\n",
    "    \"\"\"\n",
    "    if b < 0:\n",
    "        f = sub\n",
    "    else:\n",
    "        f = add\n",
    "    return f(a, b)"
   ]
  },
  {
   "cell_type": "code",
   "execution_count": 18,
   "metadata": {},
   "outputs": [
    {
     "data": {
      "text/plain": [
       "4"
      ]
     },
     "execution_count": 18,
     "metadata": {},
     "output_type": "execute_result"
    }
   ],
   "source": [
    "a_plus_abs_b(2,-2)"
   ]
  },
  {
   "cell_type": "code",
   "execution_count": null,
   "metadata": {},
   "outputs": [],
   "source": [
    "def a_plus_abs_b_syntax_check():\n",
    "    \"\"\"Check that you didn't change the return statement of a_plus_abs_b.\n",
    "\n",
    "    >>> # You aren't expected to understand the code of this test.\n",
    "    >>> import inspect, re\n",
    "    >>> re.findall(r'^\\s*(return .*)', inspect.getsource(a_plus_abs_b), re.M)\n",
    "    ['return f(a, b)']\n",
    "    \"\"\"\n",
    "    # You don't need to edit this function. It's just here to check your work."
   ]
  },
  {
   "cell_type": "code",
   "execution_count": null,
   "metadata": {},
   "outputs": [],
   "source": [
    "def two_of_three(i, j, k):\n",
    "    \"\"\"Return m*m + n*n, where m and n are the two smallest members of the\n",
    "    positive numbers i, j, and k.\n",
    "\n",
    "    >>> two_of_three(1, 2, 3)\n",
    "    5\n",
    "    >>> two_of_three(5, 3, 1)\n",
    "    10\n",
    "    >>> two_of_three(10, 2, 8)\n",
    "    68\n",
    "    >>> two_of_three(5, 5, 5)\n",
    "    50\n",
    "    \"\"\"\n",
    "    return _____\n"
   ]
  },
  {
   "cell_type": "code",
   "execution_count": null,
   "metadata": {},
   "outputs": [],
   "source": [
    "def two_of_three_syntax_check():\n",
    "    \"\"\"Check that your two_of_three code consists of nothing but a return statement.\n",
    "\n",
    "    >>> # You aren't expected to understand the code of this test.\n",
    "    >>> import inspect, ast\n",
    "    >>> [type(x).__name__ for x in ast.parse(inspect.getsource(two_of_three)).body[0].body]\n",
    "    ['Expr', 'Return']\n",
    "    \"\"\"\n",
    "    # You don't need to edit this function. It's just here to check your work."
   ]
  },
  {
   "cell_type": "code",
   "execution_count": null,
   "metadata": {},
   "outputs": [],
   "source": [
    "def largest_factor(n):\n",
    "    \"\"\"Return the largest factor of n that is smaller than n.\n",
    "\n",
    "    >>> largest_factor(15) # factors are 1, 3, 5\n",
    "    5\n",
    "    >>> largest_factor(80) # factors are 1, 2, 4, 5, 8, 10, 16, 20, 40\n",
    "    40\n",
    "    >>> largest_factor(13) # factor is 1 since 13 is prime\n",
    "    1\n",
    "    \"\"\"\n",
    "    \"*** YOUR CODE HERE ***\""
   ]
  },
  {
   "cell_type": "code",
   "execution_count": null,
   "metadata": {},
   "outputs": [],
   "source": [
    "def hailstone(n):\n",
    "    \"\"\"Print the hailstone sequence starting at n and return its\n",
    "    length.\n",
    "\n",
    "    >>> a = hailstone(10)\n",
    "    10\n",
    "    5\n",
    "    16\n",
    "    8\n",
    "    4\n",
    "    2\n",
    "    1\n",
    "    >>> a\n",
    "    7\n",
    "    >>> b = hailstone(1)\n",
    "    1\n",
    "    >>> b\n",
    "    1\n",
    "    \"\"\"\n",
    "    \"*** YOUR CODE HERE ***\"\n"
   ]
  }
 ],
 "metadata": {
  "kernelspec": {
   "display_name": "Python 3",
   "language": "python",
   "name": "python3"
  },
  "language_info": {
   "codemirror_mode": {
    "name": "ipython",
    "version": 3
   },
   "file_extension": ".py",
   "mimetype": "text/x-python",
   "name": "python",
   "nbconvert_exporter": "python",
   "pygments_lexer": "ipython3",
   "version": "3.8.5"
  }
 },
 "nbformat": 4,
 "nbformat_minor": 4
}
